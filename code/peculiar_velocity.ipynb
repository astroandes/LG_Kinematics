{
 "cells": [
  {
   "cell_type": "code",
   "execution_count": 1,
   "id": "6f753ed5",
   "metadata": {},
   "outputs": [],
   "source": [
    "# This notebook has been added in 2021.\n",
    "# I am using old CLUES data to estimate the center of mass peculiar velocity.\n",
    "import numpy as np\n",
    "import matplotlib.pyplot as plt\n",
    "import generateInfo as gi"
   ]
  },
  {
   "cell_type": "code",
   "execution_count": 11,
   "id": "f82391b7",
   "metadata": {},
   "outputs": [
    {
     "name": "stdout",
     "output_type": "stream",
     "text": [
      "1\n",
      "894 674\n",
      "selected in total 1\n",
      "VCM 357.821\n",
      "1\n",
      "1106 888\n",
      "selected in total 1\n",
      "VCM 448.458949\n",
      "1\n",
      "830 642\n",
      "selected in total 1\n",
      "VCM 356.634919\n"
     ]
    }
   ],
   "source": [
    "sim_id = [\"10909\", \"16953\", \"2710\"]\n",
    "data_path = \"../data/\"\n",
    "for sim in sim_id:\n",
    "    FOF_file=data_path+\"IC{}_halos_catalog.dat\".format(sim)\n",
    "    ID_file=data_path+\"index_LG_IC{}\".format(sim)\n",
    "    output_file=data_path+\"pair_physical_vweb_IC{}.dat\".format(sim)\n",
    "    gi.generate_info(FOF_file, ID_file, output_file=output_file, hubble=0.73)\n",
    "    physical_data = np.loadtxt(output_file)\n",
    "    vcm = physical_data[2]\n",
    "    print('VCM', vcm)"
   ]
  },
  {
   "cell_type": "code",
   "execution_count": 9,
   "id": "ac7efc9d",
   "metadata": {},
   "outputs": [
    {
     "name": "stdout",
     "output_type": "stream",
     "text": [
      "357.821\n"
     ]
    }
   ],
   "source": []
  },
  {
   "cell_type": "code",
   "execution_count": null,
   "id": "e373d3c8",
   "metadata": {},
   "outputs": [],
   "source": []
  }
 ],
 "metadata": {
  "kernelspec": {
   "display_name": "Python 3",
   "language": "python",
   "name": "python3"
  },
  "language_info": {
   "codemirror_mode": {
    "name": "ipython",
    "version": 3
   },
   "file_extension": ".py",
   "mimetype": "text/x-python",
   "name": "python",
   "nbconvert_exporter": "python",
   "pygments_lexer": "ipython3",
   "version": "3.8.10"
  }
 },
 "nbformat": 4,
 "nbformat_minor": 5
}
